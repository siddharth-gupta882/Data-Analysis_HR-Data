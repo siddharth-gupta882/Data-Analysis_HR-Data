{
 "cells": [
  {
   "cell_type": "code",
   "execution_count": 27,
   "id": "78542018",
   "metadata": {},
   "outputs": [],
   "source": [
    "import numpy as np\n",
    "import pandas as pd\n",
    "import matplotlib.pyplot as plt\n",
    "import seaborn as sns"
   ]
  },
  {
   "cell_type": "markdown",
   "id": "08ff6d13",
   "metadata": {},
   "source": [
    "# Can we predict who is going to terminate "
   ]
  },
  {
   "cell_type": "code",
   "execution_count": 28,
   "id": "19477985",
   "metadata": {},
   "outputs": [
    {
     "name": "stdout",
     "output_type": "stream",
     "text": [
      "Requirement already satisfied: imblearn in e:\\anaconda\\lib\\site-packages (0.0)\n",
      "Requirement already satisfied: imbalanced-learn in e:\\anaconda\\lib\\site-packages (from imblearn) (0.8.0)\n",
      "Requirement already satisfied: numpy>=1.13.3 in e:\\anaconda\\lib\\site-packages (from imbalanced-learn->imblearn) (1.20.1)\n",
      "Requirement already satisfied: scipy>=0.19.1 in e:\\anaconda\\lib\\site-packages (from imbalanced-learn->imblearn) (1.6.2)\n",
      "Requirement already satisfied: joblib>=0.11 in e:\\anaconda\\lib\\site-packages (from imbalanced-learn->imblearn) (1.0.1)\n",
      "Requirement already satisfied: scikit-learn>=0.24 in e:\\anaconda\\lib\\site-packages (from imbalanced-learn->imblearn) (0.24.1)\n",
      "Requirement already satisfied: threadpoolctl>=2.0.0 in e:\\anaconda\\lib\\site-packages (from scikit-learn>=0.24->imbalanced-learn->imblearn) (2.1.0)\n",
      "Note: you may need to restart the kernel to use updated packages.\n"
     ]
    }
   ],
   "source": [
    "pip install imblearn"
   ]
  },
  {
   "cell_type": "code",
   "execution_count": 29,
   "id": "2cfb5e2e",
   "metadata": {},
   "outputs": [],
   "source": [
    "data = pd.read_csv('HRDataset.csv')"
   ]
  },
  {
   "cell_type": "code",
   "execution_count": 30,
   "id": "1b83e162",
   "metadata": {},
   "outputs": [
    {
     "data": {
      "text/plain": [
       "(311, 36)"
      ]
     },
     "execution_count": 30,
     "metadata": {},
     "output_type": "execute_result"
    }
   ],
   "source": [
    "data.shape"
   ]
  },
  {
   "cell_type": "code",
   "execution_count": 31,
   "id": "a59b14c6",
   "metadata": {},
   "outputs": [
    {
     "data": {
      "text/html": [
       "<div>\n",
       "<style scoped>\n",
       "    .dataframe tbody tr th:only-of-type {\n",
       "        vertical-align: middle;\n",
       "    }\n",
       "\n",
       "    .dataframe tbody tr th {\n",
       "        vertical-align: top;\n",
       "    }\n",
       "\n",
       "    .dataframe thead th {\n",
       "        text-align: right;\n",
       "    }\n",
       "</style>\n",
       "<table border=\"1\" class=\"dataframe\">\n",
       "  <thead>\n",
       "    <tr style=\"text-align: right;\">\n",
       "      <th></th>\n",
       "      <th>Employee_Name</th>\n",
       "      <th>EmpID</th>\n",
       "      <th>MarriedID</th>\n",
       "      <th>MaritalStatusID</th>\n",
       "      <th>GenderID</th>\n",
       "      <th>EmpStatusID</th>\n",
       "      <th>DeptID</th>\n",
       "      <th>PerfScoreID</th>\n",
       "      <th>FromDiversityJobFairID</th>\n",
       "      <th>Salary</th>\n",
       "      <th>Termd</th>\n",
       "      <th>PositionID</th>\n",
       "      <th>Position</th>\n",
       "      <th>State</th>\n",
       "      <th>Zip</th>\n",
       "      <th>DOB</th>\n",
       "      <th>Sex</th>\n",
       "      <th>MaritalDesc</th>\n",
       "      <th>CitizenDesc</th>\n",
       "      <th>HispanicLatino</th>\n",
       "      <th>RaceDesc</th>\n",
       "      <th>DateofHire</th>\n",
       "      <th>DateofTermination</th>\n",
       "      <th>TermReason</th>\n",
       "      <th>EmploymentStatus</th>\n",
       "      <th>Department</th>\n",
       "      <th>ManagerName</th>\n",
       "      <th>ManagerID</th>\n",
       "      <th>RecruitmentSource</th>\n",
       "      <th>PerformanceScore</th>\n",
       "      <th>EngagementSurvey</th>\n",
       "      <th>EmpSatisfaction</th>\n",
       "      <th>SpecialProjectsCount</th>\n",
       "      <th>LastPerformanceReview_Date</th>\n",
       "      <th>DaysLateLast30</th>\n",
       "      <th>Absences</th>\n",
       "    </tr>\n",
       "  </thead>\n",
       "  <tbody>\n",
       "    <tr>\n",
       "      <th>0</th>\n",
       "      <td>Adinolfi, Wilson  K</td>\n",
       "      <td>10026</td>\n",
       "      <td>0</td>\n",
       "      <td>0</td>\n",
       "      <td>1</td>\n",
       "      <td>1</td>\n",
       "      <td>5</td>\n",
       "      <td>4</td>\n",
       "      <td>0</td>\n",
       "      <td>62506</td>\n",
       "      <td>0</td>\n",
       "      <td>19</td>\n",
       "      <td>Production Technician I</td>\n",
       "      <td>MA</td>\n",
       "      <td>1960</td>\n",
       "      <td>07/10/83</td>\n",
       "      <td>M</td>\n",
       "      <td>Single</td>\n",
       "      <td>US Citizen</td>\n",
       "      <td>No</td>\n",
       "      <td>White</td>\n",
       "      <td>7/5/2011</td>\n",
       "      <td>NaN</td>\n",
       "      <td>N/A-StillEmployed</td>\n",
       "      <td>Active</td>\n",
       "      <td>Production</td>\n",
       "      <td>Michael Albert</td>\n",
       "      <td>22.0</td>\n",
       "      <td>LinkedIn</td>\n",
       "      <td>Exceeds</td>\n",
       "      <td>4.60</td>\n",
       "      <td>5</td>\n",
       "      <td>0</td>\n",
       "      <td>1/17/2019</td>\n",
       "      <td>0</td>\n",
       "      <td>1</td>\n",
       "    </tr>\n",
       "    <tr>\n",
       "      <th>1</th>\n",
       "      <td>Ait Sidi, Karthikeyan</td>\n",
       "      <td>10084</td>\n",
       "      <td>1</td>\n",
       "      <td>1</td>\n",
       "      <td>1</td>\n",
       "      <td>5</td>\n",
       "      <td>3</td>\n",
       "      <td>3</td>\n",
       "      <td>0</td>\n",
       "      <td>104437</td>\n",
       "      <td>1</td>\n",
       "      <td>27</td>\n",
       "      <td>Sr. DBA</td>\n",
       "      <td>MA</td>\n",
       "      <td>2148</td>\n",
       "      <td>05/05/75</td>\n",
       "      <td>M</td>\n",
       "      <td>Married</td>\n",
       "      <td>US Citizen</td>\n",
       "      <td>No</td>\n",
       "      <td>White</td>\n",
       "      <td>3/30/2015</td>\n",
       "      <td>6/16/2016</td>\n",
       "      <td>career change</td>\n",
       "      <td>Voluntarily Terminated</td>\n",
       "      <td>IT/IS</td>\n",
       "      <td>Simon Roup</td>\n",
       "      <td>4.0</td>\n",
       "      <td>Indeed</td>\n",
       "      <td>Fully Meets</td>\n",
       "      <td>4.96</td>\n",
       "      <td>3</td>\n",
       "      <td>6</td>\n",
       "      <td>2/24/2016</td>\n",
       "      <td>0</td>\n",
       "      <td>17</td>\n",
       "    </tr>\n",
       "    <tr>\n",
       "      <th>2</th>\n",
       "      <td>Akinkuolie, Sarah</td>\n",
       "      <td>10196</td>\n",
       "      <td>1</td>\n",
       "      <td>1</td>\n",
       "      <td>0</td>\n",
       "      <td>5</td>\n",
       "      <td>5</td>\n",
       "      <td>3</td>\n",
       "      <td>0</td>\n",
       "      <td>64955</td>\n",
       "      <td>1</td>\n",
       "      <td>20</td>\n",
       "      <td>Production Technician II</td>\n",
       "      <td>MA</td>\n",
       "      <td>1810</td>\n",
       "      <td>09/19/88</td>\n",
       "      <td>F</td>\n",
       "      <td>Married</td>\n",
       "      <td>US Citizen</td>\n",
       "      <td>No</td>\n",
       "      <td>White</td>\n",
       "      <td>7/5/2011</td>\n",
       "      <td>9/24/2012</td>\n",
       "      <td>hours</td>\n",
       "      <td>Voluntarily Terminated</td>\n",
       "      <td>Production</td>\n",
       "      <td>Kissy Sullivan</td>\n",
       "      <td>20.0</td>\n",
       "      <td>LinkedIn</td>\n",
       "      <td>Fully Meets</td>\n",
       "      <td>3.02</td>\n",
       "      <td>3</td>\n",
       "      <td>0</td>\n",
       "      <td>5/15/2012</td>\n",
       "      <td>0</td>\n",
       "      <td>3</td>\n",
       "    </tr>\n",
       "    <tr>\n",
       "      <th>3</th>\n",
       "      <td>Alagbe,Trina</td>\n",
       "      <td>10088</td>\n",
       "      <td>1</td>\n",
       "      <td>1</td>\n",
       "      <td>0</td>\n",
       "      <td>1</td>\n",
       "      <td>5</td>\n",
       "      <td>3</td>\n",
       "      <td>0</td>\n",
       "      <td>64991</td>\n",
       "      <td>0</td>\n",
       "      <td>19</td>\n",
       "      <td>Production Technician I</td>\n",
       "      <td>MA</td>\n",
       "      <td>1886</td>\n",
       "      <td>09/27/88</td>\n",
       "      <td>F</td>\n",
       "      <td>Married</td>\n",
       "      <td>US Citizen</td>\n",
       "      <td>No</td>\n",
       "      <td>White</td>\n",
       "      <td>1/7/2008</td>\n",
       "      <td>NaN</td>\n",
       "      <td>N/A-StillEmployed</td>\n",
       "      <td>Active</td>\n",
       "      <td>Production</td>\n",
       "      <td>Elijiah Gray</td>\n",
       "      <td>16.0</td>\n",
       "      <td>Indeed</td>\n",
       "      <td>Fully Meets</td>\n",
       "      <td>4.84</td>\n",
       "      <td>5</td>\n",
       "      <td>0</td>\n",
       "      <td>1/3/2019</td>\n",
       "      <td>0</td>\n",
       "      <td>15</td>\n",
       "    </tr>\n",
       "    <tr>\n",
       "      <th>4</th>\n",
       "      <td>Anderson, Carol</td>\n",
       "      <td>10069</td>\n",
       "      <td>0</td>\n",
       "      <td>2</td>\n",
       "      <td>0</td>\n",
       "      <td>5</td>\n",
       "      <td>5</td>\n",
       "      <td>3</td>\n",
       "      <td>0</td>\n",
       "      <td>50825</td>\n",
       "      <td>1</td>\n",
       "      <td>19</td>\n",
       "      <td>Production Technician I</td>\n",
       "      <td>MA</td>\n",
       "      <td>2169</td>\n",
       "      <td>09/08/89</td>\n",
       "      <td>F</td>\n",
       "      <td>Divorced</td>\n",
       "      <td>US Citizen</td>\n",
       "      <td>No</td>\n",
       "      <td>White</td>\n",
       "      <td>7/11/2011</td>\n",
       "      <td>9/6/2016</td>\n",
       "      <td>return to school</td>\n",
       "      <td>Voluntarily Terminated</td>\n",
       "      <td>Production</td>\n",
       "      <td>Webster Butler</td>\n",
       "      <td>39.0</td>\n",
       "      <td>Google Search</td>\n",
       "      <td>Fully Meets</td>\n",
       "      <td>5.00</td>\n",
       "      <td>4</td>\n",
       "      <td>0</td>\n",
       "      <td>2/1/2016</td>\n",
       "      <td>0</td>\n",
       "      <td>2</td>\n",
       "    </tr>\n",
       "  </tbody>\n",
       "</table>\n",
       "</div>"
      ],
      "text/plain": [
       "              Employee_Name  EmpID  MarriedID  MaritalStatusID  GenderID  \\\n",
       "0       Adinolfi, Wilson  K  10026          0                0         1   \n",
       "1  Ait Sidi, Karthikeyan     10084          1                1         1   \n",
       "2         Akinkuolie, Sarah  10196          1                1         0   \n",
       "3              Alagbe,Trina  10088          1                1         0   \n",
       "4          Anderson, Carol   10069          0                2         0   \n",
       "\n",
       "   EmpStatusID  DeptID  PerfScoreID  FromDiversityJobFairID  Salary  Termd  \\\n",
       "0            1       5            4                       0   62506      0   \n",
       "1            5       3            3                       0  104437      1   \n",
       "2            5       5            3                       0   64955      1   \n",
       "3            1       5            3                       0   64991      0   \n",
       "4            5       5            3                       0   50825      1   \n",
       "\n",
       "   PositionID                  Position State   Zip       DOB Sex MaritalDesc  \\\n",
       "0          19   Production Technician I    MA  1960  07/10/83  M       Single   \n",
       "1          27                   Sr. DBA    MA  2148  05/05/75  M      Married   \n",
       "2          20  Production Technician II    MA  1810  09/19/88   F     Married   \n",
       "3          19   Production Technician I    MA  1886  09/27/88   F     Married   \n",
       "4          19   Production Technician I    MA  2169  09/08/89   F    Divorced   \n",
       "\n",
       "  CitizenDesc HispanicLatino RaceDesc DateofHire DateofTermination  \\\n",
       "0  US Citizen             No    White   7/5/2011               NaN   \n",
       "1  US Citizen             No    White  3/30/2015         6/16/2016   \n",
       "2  US Citizen             No    White   7/5/2011         9/24/2012   \n",
       "3  US Citizen             No    White   1/7/2008               NaN   \n",
       "4  US Citizen             No    White  7/11/2011          9/6/2016   \n",
       "\n",
       "          TermReason        EmploymentStatus         Department  \\\n",
       "0  N/A-StillEmployed                  Active  Production          \n",
       "1      career change  Voluntarily Terminated              IT/IS   \n",
       "2              hours  Voluntarily Terminated  Production          \n",
       "3  N/A-StillEmployed                  Active  Production          \n",
       "4   return to school  Voluntarily Terminated  Production          \n",
       "\n",
       "      ManagerName  ManagerID RecruitmentSource PerformanceScore  \\\n",
       "0  Michael Albert       22.0          LinkedIn          Exceeds   \n",
       "1      Simon Roup        4.0            Indeed      Fully Meets   \n",
       "2  Kissy Sullivan       20.0          LinkedIn      Fully Meets   \n",
       "3    Elijiah Gray       16.0            Indeed      Fully Meets   \n",
       "4  Webster Butler       39.0     Google Search      Fully Meets   \n",
       "\n",
       "   EngagementSurvey  EmpSatisfaction  SpecialProjectsCount  \\\n",
       "0              4.60                5                     0   \n",
       "1              4.96                3                     6   \n",
       "2              3.02                3                     0   \n",
       "3              4.84                5                     0   \n",
       "4              5.00                4                     0   \n",
       "\n",
       "  LastPerformanceReview_Date  DaysLateLast30  Absences  \n",
       "0                  1/17/2019               0         1  \n",
       "1                  2/24/2016               0        17  \n",
       "2                  5/15/2012               0         3  \n",
       "3                   1/3/2019               0        15  \n",
       "4                   2/1/2016               0         2  "
      ]
     },
     "execution_count": 31,
     "metadata": {},
     "output_type": "execute_result"
    }
   ],
   "source": [
    "pd.set_option('max_columns', 36)\n",
    "data.head()"
   ]
  },
  {
   "cell_type": "code",
   "execution_count": 32,
   "id": "84b9a90f",
   "metadata": {},
   "outputs": [],
   "source": [
    "data = data.drop(['Employee_Name', 'DOB','ManagerName','DateofHire','DateofTermination','LastPerformanceReview_Date','HispanicLatino'\n",
    "                ,'RaceDesc','TermReason','ManagerID' ], axis = 1)"
   ]
  },
  {
   "cell_type": "code",
   "execution_count": 33,
   "id": "9b04c057",
   "metadata": {},
   "outputs": [
    {
     "data": {
      "text/plain": [
       "(311, 26)"
      ]
     },
     "execution_count": 33,
     "metadata": {},
     "output_type": "execute_result"
    }
   ],
   "source": [
    "data.shape"
   ]
  },
  {
   "cell_type": "code",
   "execution_count": 34,
   "id": "383f1ba7",
   "metadata": {},
   "outputs": [
    {
     "data": {
      "text/plain": [
       "0"
      ]
     },
     "execution_count": 34,
     "metadata": {},
     "output_type": "execute_result"
    }
   ],
   "source": [
    "data.isnull().sum().sum()"
   ]
  },
  {
   "cell_type": "code",
   "execution_count": 35,
   "id": "08c32fa4",
   "metadata": {},
   "outputs": [
    {
     "data": {
      "text/plain": [
       "Active                    207\n",
       "Voluntarily Terminated     88\n",
       "Terminated for Cause       16\n",
       "Name: EmploymentStatus, dtype: int64"
      ]
     },
     "execution_count": 35,
     "metadata": {},
     "output_type": "execute_result"
    }
   ],
   "source": [
    "data['EmploymentStatus'].value_counts()"
   ]
  },
  {
   "cell_type": "code",
   "execution_count": 36,
   "id": "08a2d3ba",
   "metadata": {},
   "outputs": [
    {
     "data": {
      "text/html": [
       "<div>\n",
       "<style scoped>\n",
       "    .dataframe tbody tr th:only-of-type {\n",
       "        vertical-align: middle;\n",
       "    }\n",
       "\n",
       "    .dataframe tbody tr th {\n",
       "        vertical-align: top;\n",
       "    }\n",
       "\n",
       "    .dataframe thead th {\n",
       "        text-align: right;\n",
       "    }\n",
       "</style>\n",
       "<table border=\"1\" class=\"dataframe\">\n",
       "  <thead>\n",
       "    <tr style=\"text-align: right;\">\n",
       "      <th></th>\n",
       "      <th>Position</th>\n",
       "      <th>State</th>\n",
       "      <th>Sex</th>\n",
       "      <th>MaritalDesc</th>\n",
       "      <th>CitizenDesc</th>\n",
       "      <th>EmploymentStatus</th>\n",
       "      <th>Department</th>\n",
       "      <th>RecruitmentSource</th>\n",
       "      <th>PerformanceScore</th>\n",
       "    </tr>\n",
       "  </thead>\n",
       "  <tbody>\n",
       "    <tr>\n",
       "      <th>0</th>\n",
       "      <td>Production Technician I</td>\n",
       "      <td>MA</td>\n",
       "      <td>M</td>\n",
       "      <td>Single</td>\n",
       "      <td>US Citizen</td>\n",
       "      <td>Active</td>\n",
       "      <td>Production</td>\n",
       "      <td>LinkedIn</td>\n",
       "      <td>Exceeds</td>\n",
       "    </tr>\n",
       "    <tr>\n",
       "      <th>1</th>\n",
       "      <td>Sr. DBA</td>\n",
       "      <td>MA</td>\n",
       "      <td>M</td>\n",
       "      <td>Married</td>\n",
       "      <td>US Citizen</td>\n",
       "      <td>Voluntarily Terminated</td>\n",
       "      <td>IT/IS</td>\n",
       "      <td>Indeed</td>\n",
       "      <td>Fully Meets</td>\n",
       "    </tr>\n",
       "    <tr>\n",
       "      <th>2</th>\n",
       "      <td>Production Technician II</td>\n",
       "      <td>MA</td>\n",
       "      <td>F</td>\n",
       "      <td>Married</td>\n",
       "      <td>US Citizen</td>\n",
       "      <td>Voluntarily Terminated</td>\n",
       "      <td>Production</td>\n",
       "      <td>LinkedIn</td>\n",
       "      <td>Fully Meets</td>\n",
       "    </tr>\n",
       "  </tbody>\n",
       "</table>\n",
       "</div>"
      ],
      "text/plain": [
       "                   Position State Sex MaritalDesc CitizenDesc  \\\n",
       "0   Production Technician I    MA  M       Single  US Citizen   \n",
       "1                   Sr. DBA    MA  M      Married  US Citizen   \n",
       "2  Production Technician II    MA   F     Married  US Citizen   \n",
       "\n",
       "         EmploymentStatus         Department RecruitmentSource  \\\n",
       "0                  Active  Production                 LinkedIn   \n",
       "1  Voluntarily Terminated              IT/IS            Indeed   \n",
       "2  Voluntarily Terminated  Production                 LinkedIn   \n",
       "\n",
       "  PerformanceScore  \n",
       "0          Exceeds  \n",
       "1      Fully Meets  \n",
       "2      Fully Meets  "
      ]
     },
     "execution_count": 36,
     "metadata": {},
     "output_type": "execute_result"
    }
   ],
   "source": [
    "data.select_dtypes('object').head(3)"
   ]
  },
  {
   "cell_type": "code",
   "execution_count": 37,
   "id": "6cac234f",
   "metadata": {},
   "outputs": [
    {
     "data": {
      "text/plain": [
       "Index(['EmploymentStatus'], dtype='object')"
      ]
     },
     "execution_count": 37,
     "metadata": {},
     "output_type": "execute_result"
    }
   ],
   "source": [
    "from sklearn.preprocessing import LabelEncoder\n",
    "\n",
    "le = LabelEncoder()\n",
    "\n",
    "\n",
    "data['Department'] = le.fit_transform(data['Department'])\n",
    "data['RecruitmentSource'] = le.fit_transform(data['RecruitmentSource'])\n",
    "data['PerformanceScore'] = le.fit_transform(data['PerformanceScore'])\n",
    "data['Position'] = le.fit_transform(data['Position'])\n",
    "data['State'] = le.fit_transform(data['State'])\n",
    "data['Sex'] = le.fit_transform(data['Sex'])\n",
    "data['MaritalDesc'] = le.fit_transform(data['MaritalDesc'])\n",
    "data['CitizenDesc'] = le.fit_transform(data['CitizenDesc'])\n",
    "\n",
    "\n",
    "\n",
    "\n",
    "# lets again check whether there any Object Data Type Columns are Left\n",
    "data.select_dtypes('object').columns"
   ]
  },
  {
   "cell_type": "code",
   "execution_count": 43,
   "id": "700c0804",
   "metadata": {},
   "outputs": [],
   "source": [
    "data.drop(data[data['EmploymentStatus'] =='Terminated for Cause'].index, inplace = True)"
   ]
  },
  {
   "cell_type": "code",
   "execution_count": 44,
   "id": "3493443a",
   "metadata": {},
   "outputs": [
    {
     "data": {
      "text/plain": [
       "Active                    207\n",
       "Voluntarily Terminated     88\n",
       "Name: EmploymentStatus, dtype: int64"
      ]
     },
     "execution_count": 44,
     "metadata": {},
     "output_type": "execute_result"
    }
   ],
   "source": [
    "data['EmploymentStatus'].value_counts()"
   ]
  },
  {
   "cell_type": "code",
   "execution_count": 45,
   "id": "1e79ec58",
   "metadata": {},
   "outputs": [
    {
     "data": {
      "text/plain": [
       "Voluntarily Terminated    92\n",
       "Terminated for Cause      86\n",
       "Active                    84\n",
       "Name: EmploymentStatus, dtype: int64"
      ]
     },
     "execution_count": 45,
     "metadata": {},
     "output_type": "execute_result"
    }
   ],
   "source": [
    "from imblearn.combine import SMOTEENN\n",
    "\n",
    "# defining the Model\n",
    "sn = SMOTEENN(random_state = 0)\n",
    "\n",
    "# Training the Model\n",
    "sn.fit(x, y)\n",
    "\n",
    "# Making the Samples\n",
    "x, y = sn.fit_resample(x, y)\n",
    "\n",
    "# Class Distribution\n",
    "y.value_counts()"
   ]
  },
  {
   "cell_type": "code",
   "execution_count": 46,
   "id": "63ccf796",
   "metadata": {},
   "outputs": [
    {
     "name": "stdout",
     "output_type": "stream",
     "text": [
      "Shape of xtrain:  (209, 25)\n",
      "Shape of xtest:  (53, 25)\n",
      "Shape of ytrain : (209,)\n",
      "Shape of ytest : (53,)\n"
     ]
    }
   ],
   "source": [
    "from sklearn.model_selection import train_test_split\n",
    "\n",
    "x_train, x_test, y_train, y_test = train_test_split(x, y, test_size = 0.2, random_state = 0)\n",
    "\n",
    "print(\"Shape of xtrain: \", x_train.shape)\n",
    "print(\"Shape of xtest: \", x_test.shape)\n",
    "print(\"Shape of ytrain :\", y_train.shape)\n",
    "print(\"Shape of ytest :\", y_test.shape)"
   ]
  },
  {
   "cell_type": "code",
   "execution_count": 47,
   "id": "38fdc580",
   "metadata": {},
   "outputs": [
    {
     "name": "stdout",
     "output_type": "stream",
     "text": [
      "                        precision    recall  f1-score   support\n",
      "\n",
      "                Active       1.00      1.00      1.00        15\n",
      "  Terminated for Cause       1.00      1.00      1.00        18\n",
      "Voluntarily Terminated       1.00      1.00      1.00        20\n",
      "\n",
      "              accuracy                           1.00        53\n",
      "             macro avg       1.00      1.00      1.00        53\n",
      "          weighted avg       1.00      1.00      1.00        53\n",
      "\n"
     ]
    }
   ],
   "source": [
    "# Lets create a Predictive Model\n",
    "\n",
    "from sklearn.tree import DecisionTreeClassifier\n",
    "from sklearn.metrics import classification_report\n",
    "\n",
    "model = DecisionTreeClassifier()\n",
    "model.fit(x_train, y_train)\n",
    "y_pred = model.predict(x_test)\n",
    "\n",
    "cr = classification_report(y_pred, y_test)\n",
    "print(cr)"
   ]
  },
  {
   "cell_type": "code",
   "execution_count": 48,
   "id": "fb4dbe31",
   "metadata": {},
   "outputs": [
    {
     "data": {
      "image/png": "[encoded data removed]",
      "text/plain": [
       "<Figure size 1080x720 with 2 Axes>"
      ]
     },
     "metadata": {},
     "output_type": "display_data"
    }
   ],
   "source": [
    "plt.rcParams['figure.figsize'] = (15, 10)\n",
    "plt.style.use('fivethirtyeight')\n",
    "\n",
    "corr = data.corr()\n",
    "mask = np.triu(np.ones_like(corr, dtype = bool))\n",
    "sns.heatmap(corr, mask = mask, cmap = 'Wistia', linewidths = 0.2)\n",
    "plt.xticks(fontsize = 10)\n",
    "plt.yticks(fontsize = 10)\n",
    "plt.show()"
   ]
  },
  {
   "cell_type": "code",
   "execution_count": 51,
   "id": "70050b53",
   "metadata": {},
   "outputs": [
    {
     "data": {
      "text/plain": [
       "(295, 25)"
      ]
     },
     "execution_count": 51,
     "metadata": {},
     "output_type": "execute_result"
    }
   ],
   "source": [
    "# Lets Remove the Highly Correlated Columns from the Datasets\n",
    "\n",
    "data_cf = data.drop(['Sex'], axis = 1)\n",
    "\n",
    "# lets check the shape of the dataset after removal of 5 Columns from 35 Columns\n",
    "data_cf.shape"
   ]
  },
  {
   "cell_type": "code",
   "execution_count": 52,
   "id": "ee2ab565",
   "metadata": {},
   "outputs": [
    {
     "data": {
      "text/plain": [
       "Index(['EmploymentStatus'], dtype='object')"
      ]
     },
     "execution_count": 52,
     "metadata": {},
     "output_type": "execute_result"
    }
   ],
   "source": [
    "from sklearn.preprocessing import LabelEncoder\n",
    "\n",
    "le = LabelEncoder()\n",
    "\n",
    "\n",
    "data['Department'] = le.fit_transform(data['Department'])\n",
    "data['RecruitmentSource'] = le.fit_transform(data['RecruitmentSource'])\n",
    "data['PerformanceScore'] = le.fit_transform(data['PerformanceScore'])\n",
    "data['Position'] = le.fit_transform(data['Position'])\n",
    "data['State'] = le.fit_transform(data['State'])\n",
    "data['Sex'] = le.fit_transform(data['Sex'])\n",
    "data['MaritalDesc'] = le.fit_transform(data['MaritalDesc'])\n",
    "data['CitizenDesc'] = le.fit_transform(data['CitizenDesc'])\n",
    "\n",
    "\n",
    "\n",
    "\n",
    "# lets again check whether there any Object Data Type Columns are Left\n",
    "data.select_dtypes('object').columns"
   ]
  },
  {
   "cell_type": "code",
   "execution_count": 53,
   "id": "64d16f8a",
   "metadata": {},
   "outputs": [],
   "source": [
    "# Now, Split the Dataset\n",
    "\n",
    "y_cf = data_cf['EmploymentStatus']\n",
    "x_cf = data_cf.drop(['EmploymentStatus'], axis = 1)"
   ]
  },
  {
   "cell_type": "code",
   "execution_count": 54,
   "id": "e89e3ea2",
   "metadata": {},
   "outputs": [
    {
     "data": {
      "text/plain": [
       "Voluntarily Terminated    52\n",
       "Active                    46\n",
       "Name: EmploymentStatus, dtype: int64"
      ]
     },
     "execution_count": 54,
     "metadata": {},
     "output_type": "execute_result"
    }
   ],
   "source": [
    "from imblearn.combine import SMOTEENN\n",
    "\n",
    "# defining the Model\n",
    "sn = SMOTEENN(random_state = 0)\n",
    "\n",
    "# Training the Model\n",
    "sn.fit(x_cf, y_cf)\n",
    "\n",
    "# Making the Samples\n",
    "x_cf, y_cf = sn.fit_resample(x_cf, y_cf)\n",
    "\n",
    "# Class Distribution\n",
    "y_cf.value_counts()"
   ]
  },
  {
   "cell_type": "code",
   "execution_count": 55,
   "id": "b6413faa",
   "metadata": {},
   "outputs": [
    {
     "name": "stdout",
     "output_type": "stream",
     "text": [
      "Shape of xtrain:  (78, 24)\n",
      "Shape of xtest:  (20, 24)\n",
      "Shape of ytrain : (78,)\n",
      "Shape of ytest : (20,)\n"
     ]
    }
   ],
   "source": [
    "from sklearn.model_selection import train_test_split\n",
    "\n",
    "x_train_cf, x_test_cf, y_train_cf, y_test_cf = train_test_split(x_cf, y_cf, test_size = 0.2, random_state = 0)\n",
    "\n",
    "print(\"Shape of xtrain: \", x_train_cf.shape)\n",
    "print(\"Shape of xtest: \", x_test_cf.shape)\n",
    "print(\"Shape of ytrain :\", y_train_cf.shape)\n",
    "print(\"Shape of ytest :\", y_test_cf.shape)"
   ]
  },
  {
   "cell_type": "code",
   "execution_count": 56,
   "id": "66a06b0a",
   "metadata": {},
   "outputs": [
    {
     "name": "stdout",
     "output_type": "stream",
     "text": [
      "                        precision    recall  f1-score   support\n",
      "\n",
      "                Active       1.00      1.00      1.00        10\n",
      "Voluntarily Terminated       1.00      1.00      1.00        10\n",
      "\n",
      "              accuracy                           1.00        20\n",
      "             macro avg       1.00      1.00      1.00        20\n",
      "          weighted avg       1.00      1.00      1.00        20\n",
      "\n"
     ]
    }
   ],
   "source": [
    "# Lets create a Predictive Model\n",
    "\n",
    "from sklearn.tree import DecisionTreeClassifier\n",
    "from sklearn.metrics import classification_report\n",
    "\n",
    "model = DecisionTreeClassifier()\n",
    "model.fit(x_train_cf, y_train_cf)\n",
    "y_pred_cf = model.predict(x_test_cf)\n",
    "\n",
    "cr = classification_report(y_pred_cf, y_test_cf)\n",
    "print(cr)"
   ]
  },
  {
   "cell_type": "code",
   "execution_count": 57,
   "id": "4b886f6c",
   "metadata": {},
   "outputs": [
    {
     "name": "stderr",
     "output_type": "stream",
     "text": [
      "E:\\Anaconda\\lib\\site-packages\\statsmodels\\stats\\outliers_influence.py:193: RuntimeWarning: divide by zero encountered in double_scalars\n",
      "  vif = 1. / (1. - r_squared_i)\n",
      "E:\\Anaconda\\lib\\site-packages\\pandas\\io\\formats\\style.py:1268: RuntimeWarning: invalid value encountered in double_scalars\n",
      "  norm = colors.Normalize(smin - (rng * low), smax + (rng * high))\n"
     ]
    },
    {
     "data": {
      "text/html": [
       "<style  type=\"text/css\" >\n",
       "#T_1be35_row0_col1,#T_1be35_row1_col1,#T_1be35_row2_col1,#T_1be35_row3_col1,#T_1be35_row4_col1,#T_1be35_row5_col1,#T_1be35_row6_col1,#T_1be35_row7_col1,#T_1be35_row8_col1,#T_1be35_row9_col1,#T_1be35_row10_col1,#T_1be35_row11_col1,#T_1be35_row12_col1,#T_1be35_row13_col1,#T_1be35_row14_col1,#T_1be35_row15_col1,#T_1be35_row16_col1,#T_1be35_row17_col1,#T_1be35_row18_col1,#T_1be35_row19_col1,#T_1be35_row20_col1,#T_1be35_row21_col1,#T_1be35_row22_col1,#T_1be35_row23_col1,#T_1be35_row24_col1{\n",
       "            background-color:  #000000;\n",
       "            color:  #f1f1f1;\n",
       "        }</style><table id=\"T_1be35_\" ><thead>    <tr>        <th class=\"blank level0\" ></th>        <th class=\"col_heading level0 col0\" >feature</th>        <th class=\"col_heading level0 col1\" >VIF</th>    </tr></thead><tbody>\n",
       "                <tr>\n",
       "                        <th id=\"T_1be35_level0_row0\" class=\"row_heading level0 row0\" >0</th>\n",
       "                        <td id=\"T_1be35_row0_col0\" class=\"data row0 col0\" >EmpID</td>\n",
       "                        <td id=\"T_1be35_row0_col1\" class=\"data row0 col1\" >866.333385</td>\n",
       "            </tr>\n",
       "            <tr>\n",
       "                        <th id=\"T_1be35_level0_row1\" class=\"row_heading level0 row1\" >1</th>\n",
       "                        <td id=\"T_1be35_row1_col0\" class=\"data row1 col0\" >MarriedID</td>\n",
       "                        <td id=\"T_1be35_row1_col1\" class=\"data row1 col1\" >1.802431</td>\n",
       "            </tr>\n",
       "            <tr>\n",
       "                        <th id=\"T_1be35_level0_row2\" class=\"row_heading level0 row2\" >2</th>\n",
       "                        <td id=\"T_1be35_row2_col0\" class=\"data row2 col0\" >MaritalStatusID</td>\n",
       "                        <td id=\"T_1be35_row2_col1\" class=\"data row2 col1\" >2.397281</td>\n",
       "            </tr>\n",
       "            <tr>\n",
       "                        <th id=\"T_1be35_level0_row3\" class=\"row_heading level0 row3\" >3</th>\n",
       "                        <td id=\"T_1be35_row3_col0\" class=\"data row3 col0\" >GenderID</td>\n",
       "                        <td id=\"T_1be35_row3_col1\" class=\"data row3 col1\" >inf</td>\n",
       "            </tr>\n",
       "            <tr>\n",
       "                        <th id=\"T_1be35_level0_row4\" class=\"row_heading level0 row4\" >4</th>\n",
       "                        <td id=\"T_1be35_row4_col0\" class=\"data row4 col0\" >EmpStatusID</td>\n",
       "                        <td id=\"T_1be35_row4_col1\" class=\"data row4 col1\" >256.259927</td>\n",
       "            </tr>\n",
       "            <tr>\n",
       "                        <th id=\"T_1be35_level0_row5\" class=\"row_heading level0 row5\" >5</th>\n",
       "                        <td id=\"T_1be35_row5_col0\" class=\"data row5 col0\" >DeptID</td>\n",
       "                        <td id=\"T_1be35_row5_col1\" class=\"data row5 col1\" >610.838848</td>\n",
       "            </tr>\n",
       "            <tr>\n",
       "                        <th id=\"T_1be35_level0_row6\" class=\"row_heading level0 row6\" >6</th>\n",
       "                        <td id=\"T_1be35_row6_col0\" class=\"data row6 col0\" >PerfScoreID</td>\n",
       "                        <td id=\"T_1be35_row6_col1\" class=\"data row6 col1\" >82.788707</td>\n",
       "            </tr>\n",
       "            <tr>\n",
       "                        <th id=\"T_1be35_level0_row7\" class=\"row_heading level0 row7\" >7</th>\n",
       "                        <td id=\"T_1be35_row7_col0\" class=\"data row7 col0\" >FromDiversityJobFairID</td>\n",
       "                        <td id=\"T_1be35_row7_col1\" class=\"data row7 col1\" >1.439173</td>\n",
       "            </tr>\n",
       "            <tr>\n",
       "                        <th id=\"T_1be35_level0_row8\" class=\"row_heading level0 row8\" >8</th>\n",
       "                        <td id=\"T_1be35_row8_col0\" class=\"data row8 col0\" >Salary</td>\n",
       "                        <td id=\"T_1be35_row8_col1\" class=\"data row8 col1\" >42.023262</td>\n",
       "            </tr>\n",
       "            <tr>\n",
       "                        <th id=\"T_1be35_level0_row9\" class=\"row_heading level0 row9\" >9</th>\n",
       "                        <td id=\"T_1be35_row9_col0\" class=\"data row9 col0\" >Termd</td>\n",
       "                        <td id=\"T_1be35_row9_col1\" class=\"data row9 col1\" >206.424502</td>\n",
       "            </tr>\n",
       "            <tr>\n",
       "                        <th id=\"T_1be35_level0_row10\" class=\"row_heading level0 row10\" >10</th>\n",
       "                        <td id=\"T_1be35_row10_col0\" class=\"data row10 col0\" >PositionID</td>\n",
       "                        <td id=\"T_1be35_row10_col1\" class=\"data row10 col1\" >68.083404</td>\n",
       "            </tr>\n",
       "            <tr>\n",
       "                        <th id=\"T_1be35_level0_row11\" class=\"row_heading level0 row11\" >11</th>\n",
       "                        <td id=\"T_1be35_row11_col0\" class=\"data row11 col0\" >Position</td>\n",
       "                        <td id=\"T_1be35_row11_col1\" class=\"data row11 col1\" >227.865601</td>\n",
       "            </tr>\n",
       "            <tr>\n",
       "                        <th id=\"T_1be35_level0_row12\" class=\"row_heading level0 row12\" >12</th>\n",
       "                        <td id=\"T_1be35_row12_col0\" class=\"data row12 col0\" >State</td>\n",
       "                        <td id=\"T_1be35_row12_col1\" class=\"data row12 col1\" >18.152601</td>\n",
       "            </tr>\n",
       "            <tr>\n",
       "                        <th id=\"T_1be35_level0_row13\" class=\"row_heading level0 row13\" >13</th>\n",
       "                        <td id=\"T_1be35_row13_col0\" class=\"data row13 col0\" >Zip</td>\n",
       "                        <td id=\"T_1be35_row13_col1\" class=\"data row13 col1\" >34.704653</td>\n",
       "            </tr>\n",
       "            <tr>\n",
       "                        <th id=\"T_1be35_level0_row14\" class=\"row_heading level0 row14\" >14</th>\n",
       "                        <td id=\"T_1be35_row14_col0\" class=\"data row14 col0\" >Sex</td>\n",
       "                        <td id=\"T_1be35_row14_col1\" class=\"data row14 col1\" >inf</td>\n",
       "            </tr>\n",
       "            <tr>\n",
       "                        <th id=\"T_1be35_level0_row15\" class=\"row_heading level0 row15\" >15</th>\n",
       "                        <td id=\"T_1be35_row15_col0\" class=\"data row15 col0\" >MaritalDesc</td>\n",
       "                        <td id=\"T_1be35_row15_col1\" class=\"data row15 col1\" >5.666441</td>\n",
       "            </tr>\n",
       "            <tr>\n",
       "                        <th id=\"T_1be35_level0_row16\" class=\"row_heading level0 row16\" >16</th>\n",
       "                        <td id=\"T_1be35_row16_col0\" class=\"data row16 col0\" >CitizenDesc</td>\n",
       "                        <td id=\"T_1be35_row16_col1\" class=\"data row16 col1\" >101.774708</td>\n",
       "            </tr>\n",
       "            <tr>\n",
       "                        <th id=\"T_1be35_level0_row17\" class=\"row_heading level0 row17\" >17</th>\n",
       "                        <td id=\"T_1be35_row17_col0\" class=\"data row17 col0\" >Department</td>\n",
       "                        <td id=\"T_1be35_row17_col1\" class=\"data row17 col1\" >303.490273</td>\n",
       "            </tr>\n",
       "            <tr>\n",
       "                        <th id=\"T_1be35_level0_row18\" class=\"row_heading level0 row18\" >18</th>\n",
       "                        <td id=\"T_1be35_row18_col0\" class=\"data row18 col0\" >RecruitmentSource</td>\n",
       "                        <td id=\"T_1be35_row18_col1\" class=\"data row18 col1\" >14.135754</td>\n",
       "            </tr>\n",
       "            <tr>\n",
       "                        <th id=\"T_1be35_level0_row19\" class=\"row_heading level0 row19\" >19</th>\n",
       "                        <td id=\"T_1be35_row19_col0\" class=\"data row19 col0\" >PerformanceScore</td>\n",
       "                        <td id=\"T_1be35_row19_col1\" class=\"data row19 col1\" >9.876881</td>\n",
       "            </tr>\n",
       "            <tr>\n",
       "                        <th id=\"T_1be35_level0_row20\" class=\"row_heading level0 row20\" >20</th>\n",
       "                        <td id=\"T_1be35_row20_col0\" class=\"data row20 col0\" >EngagementSurvey</td>\n",
       "                        <td id=\"T_1be35_row20_col1\" class=\"data row20 col1\" >58.482795</td>\n",
       "            </tr>\n",
       "            <tr>\n",
       "                        <th id=\"T_1be35_level0_row21\" class=\"row_heading level0 row21\" >21</th>\n",
       "                        <td id=\"T_1be35_row21_col0\" class=\"data row21 col0\" >EmpSatisfaction</td>\n",
       "                        <td id=\"T_1be35_row21_col1\" class=\"data row21 col1\" >60.060152</td>\n",
       "            </tr>\n",
       "            <tr>\n",
       "                        <th id=\"T_1be35_level0_row22\" class=\"row_heading level0 row22\" >22</th>\n",
       "                        <td id=\"T_1be35_row22_col0\" class=\"data row22 col0\" >SpecialProjectsCount</td>\n",
       "                        <td id=\"T_1be35_row22_col1\" class=\"data row22 col1\" >11.891158</td>\n",
       "            </tr>\n",
       "            <tr>\n",
       "                        <th id=\"T_1be35_level0_row23\" class=\"row_heading level0 row23\" >23</th>\n",
       "                        <td id=\"T_1be35_row23_col0\" class=\"data row23 col0\" >DaysLateLast30</td>\n",
       "                        <td id=\"T_1be35_row23_col1\" class=\"data row23 col1\" >6.375525</td>\n",
       "            </tr>\n",
       "            <tr>\n",
       "                        <th id=\"T_1be35_level0_row24\" class=\"row_heading level0 row24\" >24</th>\n",
       "                        <td id=\"T_1be35_row24_col0\" class=\"data row24 col0\" >Absences</td>\n",
       "                        <td id=\"T_1be35_row24_col1\" class=\"data row24 col1\" >15.877968</td>\n",
       "            </tr>\n",
       "    </tbody></table>"
      ],
      "text/plain": [
       "<pandas.io.formats.style.Styler at 0x256fd717ee0>"
      ]
     },
     "execution_count": 57,
     "metadata": {},
     "output_type": "execute_result"
    }
   ],
   "source": [
    "from statsmodels.stats.outliers_influence import variance_inflation_factor \n",
    "\n",
    "# VIF dataframe \n",
    "vif_data = pd.DataFrame() \n",
    "vif_data[\"feature\"] = x.columns \n",
    "  \n",
    "# calculating VIF for each feature \n",
    "vif_data[\"VIF\"] = [variance_inflation_factor(x.values, i) \n",
    "                          for i in range(len(x.columns))] \n",
    "  \n",
    "vif_data.style.background_gradient(cmap = 'Wistia')"
   ]
  },
  {
   "cell_type": "code",
   "execution_count": 58,
   "id": "91a65257",
   "metadata": {},
   "outputs": [],
   "source": [
    "# lets create the Dependent and Non Dependent Sets\n",
    "x_vif = data[['MarriedID','MaritalStatusID','GenderID','FromDiversityJobFairID','Sex']]\n",
    "y_vif = data['EmploymentStatus']"
   ]
  },
  {
   "cell_type": "code",
   "execution_count": 59,
   "id": "fa57d14c",
   "metadata": {},
   "outputs": [
    {
     "data": {
      "text/plain": [
       "Active                    102\n",
       "Voluntarily Terminated     26\n",
       "Name: EmploymentStatus, dtype: int64"
      ]
     },
     "execution_count": 59,
     "metadata": {},
     "output_type": "execute_result"
    }
   ],
   "source": [
    "from imblearn.combine import SMOTEENN\n",
    "\n",
    "# defining the Model\n",
    "sn = SMOTEENN(random_state = 0)\n",
    "\n",
    "# Training the Model\n",
    "sn.fit(x_vif, y_vif)\n",
    "\n",
    "# Making the Samples\n",
    "x_vif, y_vif = sn.fit_resample(x_vif, y_vif)\n",
    "\n",
    "# Class Distribution\n",
    "y_vif.value_counts()"
   ]
  },
  {
   "cell_type": "code",
   "execution_count": 60,
   "id": "8552dbea",
   "metadata": {},
   "outputs": [
    {
     "name": "stdout",
     "output_type": "stream",
     "text": [
      "Shape of xtrain:  (102, 5)\n",
      "Shape of xtest:  (26, 5)\n",
      "Shape of ytrain : (102,)\n",
      "Shape of ytest : (26,)\n"
     ]
    }
   ],
   "source": [
    "from sklearn.model_selection import train_test_split\n",
    "\n",
    "x_train_vif, x_test_vif, y_train_vif, y_test_vif = train_test_split(x_vif, y_vif, test_size = 0.2, random_state = 0)\n",
    "\n",
    "print(\"Shape of xtrain: \", x_train_vif.shape)\n",
    "print(\"Shape of xtest: \", x_test_vif.shape)\n",
    "print(\"Shape of ytrain :\", y_train_vif.shape)\n",
    "print(\"Shape of ytest :\", y_test_vif.shape)"
   ]
  },
  {
   "cell_type": "code",
   "execution_count": 61,
   "id": "b0a5591d",
   "metadata": {},
   "outputs": [
    {
     "name": "stdout",
     "output_type": "stream",
     "text": [
      "                        precision    recall  f1-score   support\n",
      "\n",
      "                Active       1.00      1.00      1.00        22\n",
      "Voluntarily Terminated       1.00      1.00      1.00         4\n",
      "\n",
      "              accuracy                           1.00        26\n",
      "             macro avg       1.00      1.00      1.00        26\n",
      "          weighted avg       1.00      1.00      1.00        26\n",
      "\n"
     ]
    }
   ],
   "source": [
    "# Lets create a Predictive Model\n",
    "\n",
    "from sklearn.tree import DecisionTreeClassifier\n",
    "from sklearn.metrics import classification_report\n",
    "\n",
    "model = DecisionTreeClassifier()\n",
    "model.fit(x_train_vif, y_train_vif)\n",
    "y_pred_vif = model.predict(x_test_vif)\n",
    "\n",
    "cr = classification_report(y_pred_vif, y_test_vif)\n",
    "print(cr)"
   ]
  },
  {
   "cell_type": "code",
   "execution_count": null,
   "id": "da1dd27c",
   "metadata": {},
   "outputs": [],
   "source": []
  }
 ],
 "metadata": {
  "kernelspec": {
   "display_name": "Python 3",
   "language": "python",
   "name": "python3"
  },
  "language_info": {
   "codemirror_mode": {
    "name": "ipython",
    "version": 3
   },
   "file_extension": ".py",
   "mimetype": "text/x-python",
   "name": "python",
   "nbconvert_exporter": "python",
   "pygments_lexer": "ipython3",
   "version": "3.8.8"
  }
 },
 "nbformat": 4,
 "nbformat_minor": 5
}
